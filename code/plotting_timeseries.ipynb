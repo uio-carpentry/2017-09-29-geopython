{
 "cells": [
  {
   "cell_type": "markdown",
   "metadata": {},
   "source": [
    "### Using matplotlib with timeseries:\n",
    "- Many python workpackages have specific options for timeseries but here we learn how to use matplotlib"
   ]
  },
  {
   "cell_type": "code",
   "execution_count": 2,
   "metadata": {
    "collapsed": true
   },
   "outputs": [],
   "source": [
    "import matplotlib.pyplot as plt\n",
    "%matplotlib inline"
   ]
  },
  {
   "cell_type": "markdown",
   "metadata": {},
   "source": [
    "### Use a \"top-down\" approach\n",
    "- Create a figure (you may add options such as the size of your figure)\n",
    "- Create one or more subplots (here one subplot only): the first argument represents the plot \"number\" in a grid nrows=1 and ncols=1 (so one subplot only...)"
   ]
  },
  {
   "cell_type": "code",
   "execution_count": 5,
   "metadata": {},
   "outputs": [
    {
     "data": {
      "text/plain": [
       "<matplotlib.text.Text at 0x6721748>"
      ]
     },
     "execution_count": 5,
     "metadata": {},
     "output_type": "execute_result"
    },
    {
     "data": {
      "image/png": "[encoded data removed]",
      "text/plain": [
       "<matplotlib.figure.Figure at 0x6795a58>"
      ]
     },
     "metadata": {},
     "output_type": "display_data"
    }
   ],
   "source": [
    "fig = plt.figure()\n",
    "ax = fig.add_subplot(1,1,1)\n",
    "ax.set_title(\"Plotting timeseries\")"
   ]
  },
  {
   "cell_type": "markdown",
   "metadata": {},
   "source": [
    "### Plot timeseries\n",
    "- define nao_index a vector of real values\n",
    "- define dates using datetime\n",
    "- make sure you define you x-axis as dates so it can be formatted (automatically) as a date\n",
    "- customize your dates so they are human readable; here we chose to rotate x labels (with an angle of 45 degrees) and changed the font size"
   ]
  },
  {
   "cell_type": "code",
   "execution_count": 10,
   "metadata": {},
   "outputs": [
    {
     "name": "stdout",
     "output_type": "stream",
     "text": [
      "[0.1234, 0.234, 0.45, -0.2, -0.6]\n",
      "[datetime.date(2001, 6, 1), datetime.date(2001, 6, 2), datetime.date(2001, 6, 3), datetime.date(2001, 6, 4), datetime.date(2001, 6, 5)]\n"
     ]
    },
    {
     "data": {
      "text/plain": [
       "[<matplotlib.lines.Line2D at 0x83e0080>]"
      ]
     },
     "execution_count": 10,
     "metadata": {},
     "output_type": "execute_result"
    },
    {
     "data": {
      "image/png": "[encoded data removed]",
      "text/plain": [
       "<matplotlib.figure.Figure at 0x6676dd8>"
      ]
     },
     "metadata": {},
     "output_type": "display_data"
    }
   ],
   "source": [
    "nao_index = [0.1234, 0.234, 0.45, -0.2, -0.6]\n",
    "import datetime\n",
    "dates = [datetime.date(2001,6,1), datetime.date(2001,6,2), datetime.date(2001,6,3), datetime.date(2001,6,4), datetime.date(2001,6,5)]\n",
    "print(nao_index)\n",
    "print(dates)\n",
    "fig = plt.figure()\n",
    "ax = fig.add_subplot(1,1,1)\n",
    "ax.set_title(\"Plotting timeseries\")\n",
    "ax.set_xticks(dates)\n",
    "ax.set_xticklabels(dates, rotation=45, fontsize=10)\n",
    "ax.plot(dates,nao_index)"
   ]
  },
  {
   "cell_type": "code",
   "execution_count": null,
   "metadata": {
    "collapsed": true
   },
   "outputs": [],
   "source": []
  }
 ],
 "metadata": {
  "kernelspec": {
   "display_name": "Python 3",
   "language": "python",
   "name": "python3"
  },
  "language_info": {
   "codemirror_mode": {
    "name": "ipython",
    "version": 3
   },
   "file_extension": ".py",
   "mimetype": "text/x-python",
   "name": "python",
   "nbconvert_exporter": "python",
   "pygments_lexer": "ipython3",
   "version": "3.6.2"
  }
 },
 "nbformat": 4,
 "nbformat_minor": 2
}
